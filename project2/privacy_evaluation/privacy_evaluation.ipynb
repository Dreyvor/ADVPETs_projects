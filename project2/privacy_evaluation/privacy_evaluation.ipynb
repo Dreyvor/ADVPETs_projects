{
 "cells": [
  {
   "cell_type": "markdown",
   "metadata": {},
   "source": [
    "## Part 2 : privacy evaluation"
   ]
  },
  {
   "cell_type": "code",
   "execution_count": 3,
   "metadata": {},
   "outputs": [],
   "source": [
    "import csv\n",
    "import numpy as np"
   ]
  },
  {
   "cell_type": "code",
   "execution_count": 31,
   "metadata": {},
   "outputs": [
    {
     "name": "stdout",
     "output_type": "stream",
     "text": [
      "Processed 20444 lines.\n"
     ]
    }
   ],
   "source": [
    "# Load queries\n",
    "queries = np.empty((0,5))\n",
    "\n",
    "with open('privacy_evaluation/queries.csv') as queries_file:\n",
    "    query_reader = csv.reader(queries_file, delimiter=\" \")\n",
    "    line_count = 0\n",
    "    for row in query_reader:\n",
    "        if line_count == 0:\n",
    "            #print(f'{\", \".join(row)}')\n",
    "            line_count += 1\n",
    "        else:\n",
    "            #print(row)\n",
    "            queries = np.append(queries, np.array([row]), axis=0)\n",
    "            line_count += 1\n",
    "    print(f'Processed {line_count} lines.')\n",
    "                  \n",
    "#print(queries)"
   ]
  },
  {
   "cell_type": "code",
   "execution_count": 30,
   "metadata": {},
   "outputs": [
    {
     "name": "stdout",
     "output_type": "stream",
     "text": [
      "Processed 1061 lines.\n"
     ]
    }
   ],
   "source": [
    "# Load pois\n",
    "pois = np.empty((0,5))\n",
    "\n",
    "with open('privacy_evaluation/pois.csv') as pois_file:\n",
    "    pois_reader = csv.reader(pois_file, delimiter=\" \")\n",
    "    line_count = 0\n",
    "    for row in pois_reader:\n",
    "        if line_count == 0:\n",
    "            #print(f'{\", \".join(row)}')\n",
    "            line_count += 1\n",
    "        else:\n",
    "            #print(row)\n",
    "            pois = np.append(pois, np.array([row]), axis=0)\n",
    "            line_count += 1\n",
    "    print(f'Processed {line_count} lines.')\n",
    "                  \n",
    "#print(pois)"
   ]
  },
  {
   "cell_type": "code",
   "execution_count": 40,
   "metadata": {},
   "outputs": [
    {
     "name": "stdout",
     "output_type": "stream",
     "text": [
      "['34.101.177.245' '46.53294222140508' '6.591174086010503'\n",
      " '14.912447506427014' 'cafeteria']\n"
     ]
    }
   ],
   "source": []
  }
 ],
 "metadata": {
  "kernelspec": {
   "display_name": "Python 3",
   "language": "python",
   "name": "python3"
  },
  "language_info": {
   "codemirror_mode": {
    "name": "ipython",
    "version": 3
   },
   "file_extension": ".py",
   "mimetype": "text/x-python",
   "name": "python",
   "nbconvert_exporter": "python",
   "pygments_lexer": "ipython3",
   "version": "3.7.4"
  }
 },
 "nbformat": 4,
 "nbformat_minor": 2
}
